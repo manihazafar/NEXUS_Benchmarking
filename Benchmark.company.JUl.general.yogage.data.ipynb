{
 "cells": [
  {
   "cell_type": "code",
   "execution_count": 1,
   "id": "80b9bfe9-7d4c-4c92-b343-c3557e26c487",
   "metadata": {},
   "outputs": [],
   "source": [
    "import pandas as pd\n",
    "import matplotlib.pyplot as plt"
   ]
  },
  {
   "cell_type": "code",
   "execution_count": 2,
   "id": "f2ba835c-2fd0-4fbb-bdae-a573462389d7",
   "metadata": {},
   "outputs": [
    {
     "ename": "NameError",
     "evalue": "name 'df' is not defined",
     "output_type": "error",
     "traceback": [
      "\u001b[1;31m---------------------------------------------------------------------------\u001b[0m",
      "\u001b[1;31mNameError\u001b[0m                                 Traceback (most recent call last)",
      "Cell \u001b[1;32mIn[2], line 1\u001b[0m\n\u001b[1;32m----> 1\u001b[0m df\u001b[38;5;241m.\u001b[39mto_csv(\u001b[38;5;124mr\u001b[39m\u001b[38;5;124m\"\u001b[39m\u001b[38;5;124mC:\u001b[39m\u001b[38;5;124m\\\u001b[39m\u001b[38;5;124mUsers\u001b[39m\u001b[38;5;124m\\\u001b[39m\u001b[38;5;124mmanih\u001b[39m\u001b[38;5;124m\\\u001b[39m\u001b[38;5;124mDesktop\u001b[39m\u001b[38;5;124m\\\u001b[39m\u001b[38;5;124mProject\u001b[39m\u001b[38;5;124m\\\u001b[39m\u001b[38;5;124m07 - Dados Gerais Escala\u001b[39m\u001b[38;5;124m\\\u001b[39m\u001b[38;5;124mDGE_converted.csv\u001b[39m\u001b[38;5;124m\"\u001b[39m, index\u001b[38;5;241m=\u001b[39m\u001b[38;5;28;01mFalse\u001b[39;00m)\n",
      "\u001b[1;31mNameError\u001b[0m: name 'df' is not defined"
     ]
    }
   ],
   "source": [
    "\n",
    "df= \n",
    "df.to_csv(r\"C:\\Users\\manih\\Desktop\\Project\\07 - Dados Gerais Escala\\DGE_converted.csv\", index=False)\n",
    "\n",
    "\n"
   ]
  },
  {
   "cell_type": "code",
   "execution_count": null,
   "id": "45c8cc3a-d048-4c58-bca0-c0b585556159",
   "metadata": {},
   "outputs": [],
   "source": [
    "dff = pd.read_csv(csv_path)\n",
    "dff.head()"
   ]
  },
  {
   "cell_type": "code",
   "execution_count": null,
   "id": "67022c20-026a-4315-ac4c-106c166cadd9",
   "metadata": {},
   "outputs": [],
   "source": [
    "dff['Vessel_ETA'] = pd.to_datetime(dff['Vessel_ETA'], errors='coerce')\n",
    "dff['Vessel_ETD'] = pd.to_datetime(dff['Vessel_ETD'], errors='coerce')\n",
    "dff['Vessel_ATA'] = pd.to_datetime(dff['Vessel_ATA'], errors='coerce')\n",
    "dff['Vessel_ATD'] = pd.to_datetime(dff['Vessel_ATD'], errors='coerce')\n"
   ]
  },
  {
   "cell_type": "code",
   "execution_count": null,
   "id": "0d3abdb0-600d-4f65-b9d4-f0f08c084f70",
   "metadata": {},
   "outputs": [],
   "source": [
    "dff['Vessel_ETA']"
   ]
  },
  {
   "cell_type": "code",
   "execution_count": null,
   "id": "0b0a43df-cad4-4d02-b3f9-1700ed38fbee",
   "metadata": {},
   "outputs": [],
   "source": [
    "dff['Arrival_Delay_hrs']= (dff['Vessel_ATA']-dff['Vessel_ETA']).dt.total_seconds()/3600\n",
    "dff['Departure_Delay_hrs']= (dff['Vessel_ATD']-dff['Vessel_ETD']).dt.total_seconds()/3600"
   ]
  },
  {
   "cell_type": "code",
   "execution_count": null,
   "id": "de5386d5-f6ac-45bc-9c95-80dee47ed1ab",
   "metadata": {},
   "outputs": [],
   "source": [
    "dff['Arrival_Delay_hrs']\n"
   ]
  },
  {
   "cell_type": "code",
   "execution_count": null,
   "id": "3278962c-875b-47bc-83fc-72a6ff62bf42",
   "metadata": {},
   "outputs": [],
   "source": [
    "BM_dff=dff.groupby('vessel_responsible_entity')[['Arrival_Delay_hrs','Departure_Delay_hrs']].mean().round(2).reset_index()\n",
    "BM_dff"
   ]
  },
  {
   "cell_type": "code",
   "execution_count": null,
   "id": "4c91a23b-fe26-4cf3-9de3-4757c03199b1",
   "metadata": {},
   "outputs": [],
   "source": [
    "BM_dff.to_excel(\"vessel_delay_benchmark.xlsx\", index=False)"
   ]
  },
  {
   "cell_type": "code",
   "execution_count": null,
   "id": "a640be42-a1b1-4c7e-8e4a-827ef57311e9",
   "metadata": {},
   "outputs": [],
   "source": [
    "BM_sorted = BM_dff.sort_values(by='Arrival_Delay_hrs', ascending = False)"
   ]
  },
  {
   "cell_type": "code",
   "execution_count": null,
   "id": "ed40dba7-4763-45f5-9c71-cbc85fbbb855",
   "metadata": {},
   "outputs": [],
   "source": [
    "BM_sorted"
   ]
  },
  {
   "cell_type": "code",
   "execution_count": null,
   "id": "58dd28e5-b3cd-4ea2-9c39-265657f77d88",
   "metadata": {},
   "outputs": [],
   "source": [
    "plt.figure(figsize=(12,6))\n",
    "plt.barh(BM_sorted['vessel_responsible_entity'], BM_sorted['Arrival_Delay_hrs'], color='skyblue',label='Arrival Delay Hours')\n",
    "plt.xlabel('Average Delay (Hours)')\n",
    "plt.title('Benchmark: Average arrival and Departure delayes by Vessel responsible Entity')\n",
    "plt.legend()\n",
    "plt.tight_layout()\n",
    "plt.gca().invert_yaxis()\n",
    "plt.show()"
   ]
  },
  {
   "cell_type": "code",
   "execution_count": null,
   "id": "a689b156-485a-4b22-be3f-b24b796664d9",
   "metadata": {},
   "outputs": [],
   "source": []
  },
  {
   "cell_type": "code",
   "execution_count": null,
   "id": "312ac22a-159f-4bba-88b6-31b0f769932e",
   "metadata": {},
   "outputs": [],
   "source": []
  },
  {
   "cell_type": "code",
   "execution_count": null,
   "id": "04b42150-9696-48a6-952a-a9e09c3e1fbc",
   "metadata": {},
   "outputs": [],
   "source": []
  }
 ],
 "metadata": {
  "kernelspec": {
   "display_name": "Python 3 (ipykernel)",
   "language": "python",
   "name": "python3"
  },
  "language_info": {
   "codemirror_mode": {
    "name": "ipython",
    "version": 3
   },
   "file_extension": ".py",
   "mimetype": "text/x-python",
   "name": "python",
   "nbconvert_exporter": "python",
   "pygments_lexer": "ipython3",
   "version": "3.12.7"
  }
 },
 "nbformat": 4,
 "nbformat_minor": 5
}
